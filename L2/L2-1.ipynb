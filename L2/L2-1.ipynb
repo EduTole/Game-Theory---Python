{
 "cells": [
  {
   "cell_type": "markdown",
   "id": "ddcc1ba9",
   "metadata": {},
   "source": [
    "# Teoria de Juegos\n",
    "## Autor: Edinson Tolentino\n",
    "### Tema : Equilibrio de Nash\n",
    "### Juego dilema del prisionero\n",
    "\n",
    "El siguiente juego, muestra las decisiones de dos posibles sospesochos de un crimen:\n",
    "- J2 (jugador columa)\n",
    "- J1 (jugador fila)\n",
    "\n",
    "|       | Confesar | No Confesar |\n",
    "|-------|--------|-------|\n",
    "|Confesar |  -5,-5   | 0,-10      | \n",
    "|No Confesar  |  -10,0      | -1,-1      |"
   ]
  },
  {
   "cell_type": "code",
   "execution_count": 3,
   "id": "24be8973",
   "metadata": {},
   "outputs": [],
   "source": [
    "import nashpy as nash\n",
    "import numpy  as np"
   ]
  },
  {
   "cell_type": "code",
   "execution_count": 4,
   "id": "b4345fea",
   "metadata": {},
   "outputs": [
    {
     "data": {
      "text/plain": [
       "Bi matrix game with payoff matrices:\n",
       "\n",
       "Row player:\n",
       "[[ -5   0]\n",
       " [-10  -1]]\n",
       "\n",
       "Column player:\n",
       "[[ -5 -10]\n",
       " [  0  -1]]"
      ]
     },
     "execution_count": 4,
     "metadata": {},
     "output_type": "execute_result"
    }
   ],
   "source": [
    "J1 = np.array([[-5,0], [-10,-1]])\n",
    "J2 = np.array([[-5,-10],[0,-1]])\n",
    "out1 = nash.Game(J1,J2)\n",
    "out1"
   ]
  },
  {
   "cell_type": "markdown",
   "id": "378259af",
   "metadata": {},
   "source": [
    "Solución de equilibrio de Nash"
   ]
  },
  {
   "cell_type": "code",
   "execution_count": 5,
   "id": "111477ae",
   "metadata": {},
   "outputs": [
    {
     "name": "stdout",
     "output_type": "stream",
     "text": [
      "(array([1., 0.]), array([1., 0.]))\n"
     ]
    }
   ],
   "source": [
    "eq = out1.support_enumeration()\n",
    "for N in eq:\n",
    "    print(N)\n",
    "    "
   ]
  },
  {
   "cell_type": "markdown",
   "id": "2716944d",
   "metadata": {},
   "source": [
    "Por tanto, se puede observar:\n",
    "- El J1 (jugador fila) es confesar : 100 \\% de elección\n",
    "- El J2 (jugador columna) es confesar: 100 \\% de eleción"
   ]
  },
  {
   "cell_type": "markdown",
   "id": "f24b6b3d",
   "metadata": {},
   "source": [
    "Calculando las utilidades obtenidas en base a la elección de las estrategias\n",
    "\n",
    "Entonces la Utilidad de cada jugador\n",
    "- Estrategia de jugador fila : $\\sigma_{r}=(1,0)$\n",
    "- Estrategia de columna fila : $\\sigma_{c}=(1,0)$\n",
    "\n",
    "\n",
    "$$\n",
    "U_{1} = \\sigma_{r} A_{1} \\sigma^{T}_{c}\n",
    "$$\n",
    "\n",
    "$$\n",
    "U_{2} = \\sigma_{r} A_{2} \\sigma^{T}_{c}\n",
    "$$"
   ]
  },
  {
   "cell_type": "code",
   "execution_count": 16,
   "id": "86587944",
   "metadata": {},
   "outputs": [],
   "source": [
    "sigma_r = np.array([1, 0])\n",
    "sigma_c = np.array([1, 0])\n"
   ]
  },
  {
   "cell_type": "markdown",
   "id": "9eb27dd1",
   "metadata": {},
   "source": [
    "Por tanto, para calcular el valor de la utilidad del primer jugador\n",
    "\n",
    "$$\n",
    "U_{1} = \\sigma_{r} A_{1} \\sigma^{T}_{c}\n",
    "$$\n",
    "\n",
    "$$\n",
    "U_{1} =  \\begin{bmatrix} 1 & 0    \\end{bmatrix} x  \\begin{bmatrix} -5 & 0  \\\\ -10 & -1  \\end{bmatrix} x \\begin{bmatrix} 1 & \\\\ 0 &    \\end{bmatrix}\n",
    "$$\n",
    "\n",
    "$$\n",
    "U_{1} =  \\begin{bmatrix} -5 & 0    \\end{bmatrix}  x \\begin{bmatrix} 1 & \\\\ 0 &    \\end{bmatrix}\n",
    "$$\n",
    "\n",
    "$$\n",
    "U_{1} =-5\n",
    "$$\n",
    "\n",
    "Por otro lado, para calcular el valor de la utilidad del segundo jugador\n",
    "\n",
    "$$\n",
    "U_{2} = \\sigma_{r} A_{2} \\sigma^{T}_{c}\n",
    "$$\n",
    "\n",
    "$$\n",
    "U_{2} =  \\begin{bmatrix} 1 & 0    \\end{bmatrix} x  \\begin{bmatrix} -5 & -10  \\\\ 0 & -1  \\end{bmatrix} x \\begin{bmatrix} 1 & \\\\ 0 &    \\end{bmatrix}\n",
    "$$\n",
    "\n",
    "$$\n",
    "U_{2} =  \\begin{bmatrix} -5 & 0    \\end{bmatrix}  x \\begin{bmatrix} 1 & \\\\ 0 &    \\end{bmatrix}\n",
    "$$\n",
    "\n",
    "$$\n",
    "U_{2} =-5\n",
    "$$"
   ]
  },
  {
   "cell_type": "code",
   "execution_count": 18,
   "id": "127692e5",
   "metadata": {},
   "outputs": [
    {
     "data": {
      "text/plain": [
       "array([-5, -5])"
      ]
     },
     "execution_count": 18,
     "metadata": {},
     "output_type": "execute_result"
    }
   ],
   "source": [
    "Utilidad_1 = out1[sigma_r, sigma_c]\n",
    "Utilidad_1"
   ]
  },
  {
   "cell_type": "markdown",
   "id": "42cd28ff",
   "metadata": {},
   "source": [
    "### Juegos de pennies\n",
    "\n",
    "El siguiente juego, muestra las decisiones de las estrategias (cara y sello):\n",
    "- A2 (jugador columa)\n",
    "- A1 (jugador fila)\n",
    "\n",
    "|       | Cara | Sello |\n",
    "|-------|--------|-------|\n",
    "|Cara |  1,-1   | -1,1      | \n",
    "|Sello  |  -1,1      | 1,-1      |"
   ]
  },
  {
   "cell_type": "code",
   "execution_count": 11,
   "id": "57b55cdf",
   "metadata": {},
   "outputs": [
    {
     "data": {
      "text/plain": [
       "Zero sum game with payoff matrices:\n",
       "\n",
       "Row player:\n",
       "[[ 1 -1]\n",
       " [-1  1]]\n",
       "\n",
       "Column player:\n",
       "[[-1  1]\n",
       " [ 1 -1]]"
      ]
     },
     "execution_count": 11,
     "metadata": {},
     "output_type": "execute_result"
    }
   ],
   "source": [
    "A1 = np.array([[1,-1], [-1,1]])\n",
    "A2 = np.array([[-1,1],[1,-1]])\n",
    "out2 = nash.Game(A1,A2)\n",
    "out2"
   ]
  },
  {
   "cell_type": "code",
   "execution_count": 12,
   "id": "ef0f1711",
   "metadata": {},
   "outputs": [
    {
     "name": "stdout",
     "output_type": "stream",
     "text": [
      "(array([0.5, 0.5]), array([0.5, 0.5]))\n"
     ]
    }
   ],
   "source": [
    "ec = out2.support_enumeration()\n",
    "for Z in ec:\n",
    "    print(Z)"
   ]
  },
  {
   "cell_type": "markdown",
   "id": "07c4dcf6",
   "metadata": {},
   "source": [
    "Calculando la Utilidad de cada jugador\n",
    "- Estrategia de jugador fila : $\\sigma_{r}$\n",
    "- Estrategia de columna fila : $\\sigma_{c}$\n",
    "\n",
    "\n",
    "$$\n",
    "U_{1} = \\sigma_{r} A_{1} \\sigma^{T}_{c}\n",
    "$$\n",
    "\n",
    "$$\n",
    "U_{2} = \\sigma_{r} A_{2} \\sigma^{T}_{c}\n",
    "$$\n"
   ]
  },
  {
   "cell_type": "code",
   "execution_count": 13,
   "id": "39110a91",
   "metadata": {},
   "outputs": [],
   "source": [
    "sigma_r = np.array([0.5, 0.5])\n",
    "sigma_c = np.array([0.5, 0.5])\n"
   ]
  },
  {
   "cell_type": "code",
   "execution_count": 15,
   "id": "0bf4c3e6",
   "metadata": {},
   "outputs": [
    {
     "data": {
      "text/plain": [
       "array([0., 0.])"
      ]
     },
     "execution_count": 15,
     "metadata": {},
     "output_type": "execute_result"
    }
   ],
   "source": [
    "out2[sigma_r, sigma_c]"
   ]
  },
  {
   "cell_type": "code",
   "execution_count": null,
   "id": "e67a7340",
   "metadata": {},
   "outputs": [],
   "source": []
  }
 ],
 "metadata": {
  "kernelspec": {
   "display_name": "Python 3 (ipykernel)",
   "language": "python",
   "name": "python3"
  },
  "language_info": {
   "codemirror_mode": {
    "name": "ipython",
    "version": 3
   },
   "file_extension": ".py",
   "mimetype": "text/x-python",
   "name": "python",
   "nbconvert_exporter": "python",
   "pygments_lexer": "ipython3",
   "version": "3.9.6"
  }
 },
 "nbformat": 4,
 "nbformat_minor": 5
}
