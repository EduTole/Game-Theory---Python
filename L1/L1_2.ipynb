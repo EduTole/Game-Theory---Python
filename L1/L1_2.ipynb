{
 "cells": [
  {
   "cell_type": "markdown",
   "id": "41aa19be",
   "metadata": {},
   "source": [
    "# Teoria de Juegos\n",
    "## Autor: Edinson Tolentino\n",
    "\n",
    "### Tema: Definicion de juegos usando python"
   ]
  },
  {
   "cell_type": "code",
   "execution_count": 1,
   "id": "2d36b6b9",
   "metadata": {},
   "outputs": [],
   "source": [
    "import nashpy as nash"
   ]
  },
  {
   "cell_type": "code",
   "execution_count": 2,
   "id": "fa5aa08d",
   "metadata": {},
   "outputs": [],
   "source": [
    "A =[[3,1],[0,2]]\n",
    "B =[[2,1],[0,3]]\n",
    "battle_sex =nash.Game(A,B)\n"
   ]
  },
  {
   "cell_type": "code",
   "execution_count": 3,
   "id": "50605c1f",
   "metadata": {},
   "outputs": [
    {
     "data": {
      "text/plain": [
       "Bi matrix game with payoff matrices:\n",
       "\n",
       "Row player:\n",
       "[[3 1]\n",
       " [0 2]]\n",
       "\n",
       "Column player:\n",
       "[[2 1]\n",
       " [0 3]]"
      ]
     },
     "execution_count": 3,
     "metadata": {},
     "output_type": "execute_result"
    }
   ],
   "source": [
    "battle_sex"
   ]
  },
  {
   "cell_type": "code",
   "execution_count": 4,
   "id": "f5e982d7",
   "metadata": {},
   "outputs": [],
   "source": [
    "import numpy as np"
   ]
  },
  {
   "cell_type": "code",
   "execution_count": 6,
   "id": "534159c4",
   "metadata": {},
   "outputs": [
    {
     "data": {
      "text/plain": [
       "Bi matrix game with payoff matrices:\n",
       "\n",
       "Row player:\n",
       "[[ 8  1]\n",
       " [15  3]]\n",
       "\n",
       "Column player:\n",
       "[[ 8 15]\n",
       " [ 1  3]]"
      ]
     },
     "execution_count": 6,
     "metadata": {},
     "output_type": "execute_result"
    }
   ],
   "source": [
    "p1 = np.array([[8,1],[15,3]])\n",
    "p2 = np.array([[8,15],[1,3]])\n",
    "pd = nash.Game(p1, p2)\n",
    "pd"
   ]
  },
  {
   "cell_type": "code",
   "execution_count": 8,
   "id": "598dd0a3",
   "metadata": {},
   "outputs": [
    {
     "name": "stdout",
     "output_type": "stream",
     "text": [
      "(array([0., 1.]), array([0., 1.]))\n"
     ]
    }
   ],
   "source": [
    "for eq in pd.support_enumeration():\n",
    "    print(eq)\n",
    "    "
   ]
  },
  {
   "cell_type": "code",
   "execution_count": 11,
   "id": "7c0e476a",
   "metadata": {},
   "outputs": [
    {
     "data": {
      "text/plain": [
       "(array([0., 1.]), array([0., 1.]))"
      ]
     },
     "execution_count": 11,
     "metadata": {},
     "output_type": "execute_result"
    }
   ],
   "source": [
    "eq"
   ]
  },
  {
   "cell_type": "markdown",
   "id": "bdd5d429",
   "metadata": {},
   "source": [
    "## Juegos de pennies"
   ]
  },
  {
   "cell_type": "code",
   "execution_count": 12,
   "id": "8c4ccb42",
   "metadata": {},
   "outputs": [
    {
     "data": {
      "text/plain": [
       "Zero sum game with payoff matrices:\n",
       "\n",
       "Row player:\n",
       "[[ 1 -1]\n",
       " [-1  1]]\n",
       "\n",
       "Column player:\n",
       "[[-1  1]\n",
       " [ 1 -1]]"
      ]
     },
     "execution_count": 12,
     "metadata": {},
     "output_type": "execute_result"
    }
   ],
   "source": [
    "A = np.array([[1,-1],[-1,1]])\n",
    "mat_pennies =nash.Game(A)\n",
    "mat_pennies\n"
   ]
  },
  {
   "cell_type": "markdown",
   "id": "c8ae44f2",
   "metadata": {},
   "source": [
    "La siguiente sintaxis evidencia la solución "
   ]
  },
  {
   "cell_type": "code",
   "execution_count": 13,
   "id": "eacbdc57",
   "metadata": {},
   "outputs": [
    {
     "name": "stdout",
     "output_type": "stream",
     "text": [
      "(array([0.5, 0.5]), array([0.5, 0.5]))\n"
     ]
    }
   ],
   "source": [
    "equilibrio = mat_pennies.support_enumeration()\n",
    "for eq in equilibrio:\n",
    "    print(eq)"
   ]
  },
  {
   "cell_type": "markdown",
   "id": "74887f76",
   "metadata": {},
   "source": [
    "## Dilema de prisionero\n",
    "\n",
    " \n"
   ]
  },
  {
   "cell_type": "code",
   "execution_count": 14,
   "id": "27ac1700",
   "metadata": {},
   "outputs": [
    {
     "data": {
      "text/plain": [
       "Bi matrix game with payoff matrices:\n",
       "\n",
       "Row player:\n",
       "[[ -5   0]\n",
       " [-10  -1]]\n",
       "\n",
       "Column player:\n",
       "[[ -5 -10]\n",
       " [  0  -1]]"
      ]
     },
     "execution_count": 14,
     "metadata": {},
     "output_type": "execute_result"
    }
   ],
   "source": [
    "A = np.array([[-5,0],[-10,-1]])\n",
    "B = np.array([[-5,-10],[0,-1]])\n",
    "dilema =nash.Game(A,B)\n",
    "dilema"
   ]
  },
  {
   "cell_type": "code",
   "execution_count": 15,
   "id": "d96f3ce4",
   "metadata": {},
   "outputs": [
    {
     "name": "stdout",
     "output_type": "stream",
     "text": [
      "(array([1., 0.]), array([1., 0.]))\n"
     ]
    }
   ],
   "source": [
    "solucion = dilema.support_enumeration()\n",
    "for eq in solucion:\n",
    "    print(eq)"
   ]
  },
  {
   "cell_type": "code",
   "execution_count": null,
   "id": "12fad1dc",
   "metadata": {},
   "outputs": [],
   "source": []
  }
 ],
 "metadata": {
  "kernelspec": {
   "display_name": "Python 3 (ipykernel)",
   "language": "python",
   "name": "python3"
  },
  "language_info": {
   "codemirror_mode": {
    "name": "ipython",
    "version": 3
   },
   "file_extension": ".py",
   "mimetype": "text/x-python",
   "name": "python",
   "nbconvert_exporter": "python",
   "pygments_lexer": "ipython3",
   "version": "3.9.6"
  }
 },
 "nbformat": 4,
 "nbformat_minor": 5
}
