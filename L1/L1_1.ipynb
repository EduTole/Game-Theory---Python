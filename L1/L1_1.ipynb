{
 "cells": [
  {
   "cell_type": "markdown",
   "id": "2d487d73",
   "metadata": {},
   "source": [
    "# Teoria de Juegos\n",
    "## Autor: Edinson Tolentino"
   ]
  },
  {
   "cell_type": "markdown",
   "id": "33a4414e",
   "metadata": {},
   "source": [
    "Se instala las librerias del caso"
   ]
  },
  {
   "cell_type": "code",
   "execution_count": 1,
   "id": "77408f2f",
   "metadata": {},
   "outputs": [
    {
     "name": "stdout",
     "output_type": "stream",
     "text": [
      "Requirement already satisfied: nashpy in c:\\users\\edinson\\appdata\\local\\programs\\python\\python39\\lib\\site-packages (0.0.25)\n",
      "Requirement already satisfied: scipy>=0.19.0 in c:\\users\\edinson\\appdata\\local\\programs\\python\\python39\\lib\\site-packages (from nashpy) (1.7.1)\n",
      "Requirement already satisfied: numpy>=1.15.4 in c:\\users\\edinson\\appdata\\local\\programs\\python\\python39\\lib\\site-packages (from nashpy) (1.21.2)\n"
     ]
    }
   ],
   "source": [
    "!pip install nashpy"
   ]
  },
  {
   "cell_type": "code",
   "execution_count": 4,
   "id": "1666288b",
   "metadata": {},
   "outputs": [],
   "source": [
    "import nashpy as nash\n",
    "import numpy as np"
   ]
  },
  {
   "cell_type": "markdown",
   "id": "cfbc18ac",
   "metadata": {},
   "source": [
    "Definición del juego: piedra, papel y tijeras:\n",
    "\n",
    "$$A = \\begin{bmatrix} 0 & -1 & 1 \\\\ 1 & 0 & -1 \\\\ 1 & -1 & 0 \\end{bmatrix}$$\n",
    "\n",
    "\n",
    "\n"
   ]
  },
  {
   "cell_type": "markdown",
   "id": "66f73f7f",
   "metadata": {},
   "source": [
    "Tabla de matrix, para dos jugadores (jugador fila y jugador columna)"
   ]
  },
  {
   "cell_type": "markdown",
   "id": "ea687c70",
   "metadata": {},
   "source": [
    "|       | Piedra | Papel | Tijera |\n",
    "|-------|--------|-------|--------|\n",
    "|Piedra |  0,0   |  -1,1      | 1,-1       |\n",
    "|Papel  |  1,-1      | 0,0      | -1,1       |\n",
    "|Tijera |  -1,1      | 1,-1      |    0,0    |\n"
   ]
  },
  {
   "cell_type": "code",
   "execution_count": 5,
   "id": "48aa1087",
   "metadata": {},
   "outputs": [
    {
     "data": {
      "text/plain": [
       "Zero sum game with payoff matrices:\n",
       "\n",
       "Row player:\n",
       "[[ 0 -1  1]\n",
       " [ 1  0 -1]\n",
       " [-1  1  0]]\n",
       "\n",
       "Column player:\n",
       "[[ 0  1 -1]\n",
       " [-1  0  1]\n",
       " [ 1 -1  0]]"
      ]
     },
     "execution_count": 5,
     "metadata": {},
     "output_type": "execute_result"
    }
   ],
   "source": [
    "A = np.array([[0,-1,1], [1,0,-1], [-1,1,0]])\n",
    "out = nash.Game(A)\n",
    "out"
   ]
  },
  {
   "cell_type": "markdown",
   "id": "6abf0610",
   "metadata": {},
   "source": [
    "### Juego de construcción de planta\n",
    "\n",
    "El siguiente juego, muestra los impactos potenciales de la expansión de la capacidad de decisión de dos plantas:\n",
    "- Toyota (jugador columa)\n",
    "- Honda (jugador fila)"
   ]
  },
  {
   "cell_type": "markdown",
   "id": "4cdac9e0",
   "metadata": {},
   "source": [
    "|       | Construir | No Construir |\n",
    "|-------|--------|-------|\n",
    "|Construir |  16,16   | 20,15      | \n",
    "|No Construir  |  15,20      | 18,18      |\n"
   ]
  },
  {
   "cell_type": "code",
   "execution_count": 8,
   "id": "b191a949",
   "metadata": {},
   "outputs": [
    {
     "data": {
      "text/plain": [
       "Bi matrix game with payoff matrices:\n",
       "\n",
       "Row player:\n",
       "[[16 20]\n",
       " [15 18]]\n",
       "\n",
       "Column player:\n",
       "[[16 15]\n",
       " [20 18]]"
      ]
     },
     "execution_count": 8,
     "metadata": {},
     "output_type": "execute_result"
    }
   ],
   "source": [
    "H = np.array([[16,20], [15,18]])\n",
    "T = np.array([[16,15],[20,18]])\n",
    "out2 = nash.Game(H,T)\n",
    "out2\n"
   ]
  },
  {
   "cell_type": "markdown",
   "id": "2afb3017",
   "metadata": {},
   "source": [
    "### Juego dilema del prisionero\n",
    "\n",
    "El siguiente juego, muestra las decisiones de dos posibles sospesochos de un crimen:\n",
    "- J2 (jugador columa)\n",
    "- J1 (jugador fila)\n",
    "\n",
    "|       | Confesar | No Confesar |\n",
    "|-------|--------|-------|\n",
    "|Confesar |  -5,-5   | 0,-10      | \n",
    "|No Confesar  |  -10,0      | -1,-1      |"
   ]
  },
  {
   "cell_type": "code",
   "execution_count": 9,
   "id": "0f470342",
   "metadata": {},
   "outputs": [
    {
     "data": {
      "text/plain": [
       "Bi matrix game with payoff matrices:\n",
       "\n",
       "Row player:\n",
       "[[ -5   0]\n",
       " [-10  -1]]\n",
       "\n",
       "Column player:\n",
       "[[ -5 -10]\n",
       " [  0  -1]]"
      ]
     },
     "execution_count": 9,
     "metadata": {},
     "output_type": "execute_result"
    }
   ],
   "source": [
    "J1 = np.array([[-5,0], [-10,-1]])\n",
    "J2 = np.array([[-5,-10],[0,-1]])\n",
    "out3 = nash.Game(J1,J2)\n",
    "out3"
   ]
  },
  {
   "cell_type": "code",
   "execution_count": null,
   "id": "f1279897",
   "metadata": {},
   "outputs": [],
   "source": []
  },
  {
   "cell_type": "code",
   "execution_count": null,
   "id": "68c9a06b",
   "metadata": {},
   "outputs": [],
   "source": []
  }
 ],
 "metadata": {
  "kernelspec": {
   "display_name": "Python 3 (ipykernel)",
   "language": "python",
   "name": "python3"
  },
  "language_info": {
   "codemirror_mode": {
    "name": "ipython",
    "version": 3
   },
   "file_extension": ".py",
   "mimetype": "text/x-python",
   "name": "python",
   "nbconvert_exporter": "python",
   "pygments_lexer": "ipython3",
   "version": "3.9.6"
  }
 },
 "nbformat": 4,
 "nbformat_minor": 5
}
